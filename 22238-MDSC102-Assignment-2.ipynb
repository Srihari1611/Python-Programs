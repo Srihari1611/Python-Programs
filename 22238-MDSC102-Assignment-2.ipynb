{
 "cells": [
  {
   "cell_type": "code",
   "execution_count": 100,
   "metadata": {},
   "outputs": [
    {
     "name": "stdout",
     "output_type": "stream",
     "text": [
      "The Expectation of x is :  1\n",
      "Expectation of x² :  2\n",
      "x*exp(-x)\n",
      "x**2*exp(-x)\n",
      "The variance of x is :  1\n",
      "Expectation of the Nth element is :  120\n"
     ]
    }
   ],
   "source": [
    "from  math import exp\n",
    "import scipy.integrate\n",
    "from scipy.integrate import quad\n",
    "import math\n",
    "from sympy import *\n",
    "\n",
    "def f(x):\n",
    "    return exp(-1*x)\n",
    "\n",
    "\n",
    "def E(x):#for discrete\n",
    "    sai = (x*f(x))\n",
    "    return sai\n",
    "\n",
    "def ex(x,n):\n",
    "    sai = ((x**n)*f(x))\n",
    "    return sai\n",
    "\n",
    "def var(x):\n",
    "    e1 = E(x)\n",
    "    print(e1)\n",
    "    e2 = ex(x,2)\n",
    "    print(e2)\n",
    "    po = e1**2\n",
    "    ans = e2-po\n",
    "    # return e2-pow(e1,2)\n",
    "    return ans\n",
    "\n",
    "\n",
    "x=symbols(\"x\")\n",
    "\n",
    "\n",
    "\n",
    "an = integrate(ex(x,1),(x , 0, oo))\n",
    "print(\"The Expectation of x is : \",an)\n",
    "\n",
    "es = integrate(ex(x,2),(x,0,oo))\n",
    "print(\"Expectation of x\\N{SUPERSCRIPT Two} : \",es)\n",
    "\n",
    "va = float(integrate(var(x),(x,0,oo)))#this also can be used instead of the below line\n",
    "print(\"The variance of x is : \",(es)-(an**2))\n",
    "\n",
    "no = int(input(\"Enter the nth element for the expectation : \"))\n",
    "\n",
    "x=symbols(\"x\")\n",
    "\n",
    "en = integrate(ex(x,no),(x,0,oo))\n",
    "\n",
    "print(\"Expectation of the Nth element is : \",en )\n"
   ]
  },
  {
   "cell_type": "code",
   "execution_count": 101,
   "metadata": {},
   "outputs": [
    {
     "name": "stdout",
     "output_type": "stream",
     "text": [
      "2\n",
      "The Expectation of x is :  2\n",
      "Expectation of x² :  6\n",
      "The variance of x is :  2\n",
      "Expectation of the Nth element is :  720\n"
     ]
    }
   ],
   "source": [
    "from  math import exp\n",
    "import scipy.integrate\n",
    "from scipy.integrate import quad\n",
    "import math\n",
    "from sympy import *\n",
    "\n",
    "def f(x):\n",
    "    return (x)*exp(-1*x)\n",
    "\n",
    "\n",
    "def E(x):#for discrete\n",
    "    sai = (x*f(x))\n",
    "    return sai\n",
    "\n",
    "def ex(x,n):\n",
    "    sai = ((x**n)*f(x))\n",
    "    return sai\n",
    "\n",
    "def var(x):\n",
    "    e1 = E(x)\n",
    "    e2 = ex(x,2)\n",
    "    return e2-(e1**2)\n",
    "\n",
    "\n",
    "x=symbols(\"x\")\n",
    "\n",
    "\n",
    "\n",
    "an = integrate(E(x),(x , 0, oo))\n",
    "print(an)\n",
    "print(\"The Expectation of x is : \",an)\n",
    "\n",
    "es = integrate(ex(x,2),(x,0,oo))\n",
    "print(\"Expectation of x\\N{SUPERSCRIPT Two} : \",es)\n",
    "\n",
    "va = integrate(var(x),(x,0,oo))#this also can be used instead of the below line\n",
    "print(\"The variance of x is : \",(es)-(an**2))\n",
    "\n",
    "no = int(input(\"Enter the nth element for the expectation : \"))\n",
    "\n",
    "x=symbols(\"x\")\n",
    "\n",
    "en = integrate(ex(x,no),(x,0,oo))\n",
    "\n",
    "print(\"Expectation of the Nth element is : \",en )\n",
    "\n"
   ]
  },
  {
   "cell_type": "code",
   "execution_count": 102,
   "metadata": {},
   "outputs": [
    {
     "name": "stdout",
     "output_type": "stream",
     "text": [
      "oo\n",
      "The Expectation of x is :  oo\n",
      "Expectation of x² :  oo\n",
      "The variance of x is :  nan\n",
      "Expectation of the Nth element is :  oo\n"
     ]
    }
   ],
   "source": [
    "from  math import exp\n",
    "import scipy.integrate\n",
    "from scipy.integrate import quad\n",
    "import math\n",
    "from sympy import *\n",
    "\n",
    "def f(x):\n",
    "    return (1/(pi*(1+(x**2))))\n",
    "\n",
    "def E(x):#for discrete\n",
    "    sai = (x*f(x))\n",
    "    return sai\n",
    "\n",
    "def ex(x,n):\n",
    "    sai = ((x**n)*f(x))\n",
    "    return sai\n",
    "\n",
    "def var(x):\n",
    "    e1 = E(x)\n",
    "    e2 = ex(x,2)\n",
    "    return e2-(e1**2)\n",
    "\n",
    "\n",
    "x=symbols(\"x\")\n",
    "\n",
    "\n",
    "\n",
    "an = integrate(E(x),(x , 0, oo))\n",
    "print(an)\n",
    "print(\"The Expectation of x is : \",an)\n",
    "\n",
    "es = integrate(ex(x,2),(x,0,oo))\n",
    "print(\"Expectation of x\\N{SUPERSCRIPT Two} : \",es)\n",
    "\n",
    "va = integrate(var(x),(x,0,oo))#this also can be used instead of the below line\n",
    "print(\"The variance of x is : \",(es)-(an**2))\n",
    "\n",
    "no = int(input(\"Enter the nth element for the expectation : \"))\n",
    "\n",
    "x=symbols(\"x\")\n",
    "\n",
    "en = integrate(ex(x,no),(x,0,oo))\n",
    "\n",
    "print(\"Expectation of the Nth element is : \",en )\n",
    "\n"
   ]
  },
  {
   "cell_type": "code",
   "execution_count": 116,
   "metadata": {},
   "outputs": [
    {
     "ename": "TypeError",
     "evalue": "'Mul' object is not callable",
     "output_type": "error",
     "traceback": [
      "\u001b[1;31m---------------------------------------------------------------------------\u001b[0m",
      "\u001b[1;31mTypeError\u001b[0m                                 Traceback (most recent call last)",
      "\u001b[1;32me:\\Srihari\\Python\\22238-MDSC102-Assignment-2.ipynb Cell 4\u001b[0m in \u001b[0;36m<cell line: 27>\u001b[1;34m()\u001b[0m\n\u001b[0;32m     <a href='vscode-notebook-cell:/e%3A/Srihari/Python/22238-MDSC102-Assignment-2.ipynb#W3sZmlsZQ%3D%3D?line=24'>25</a>\u001b[0m x \u001b[39m=\u001b[39m symbols(\u001b[39m'\u001b[39m\u001b[39mx\u001b[39m\u001b[39m'\u001b[39m)\n\u001b[0;32m     <a href='vscode-notebook-cell:/e%3A/Srihari/Python/22238-MDSC102-Assignment-2.ipynb#W3sZmlsZQ%3D%3D?line=25'>26</a>\u001b[0m p\u001b[39m=\u001b[39m\u001b[39m0.5\u001b[39m\n\u001b[1;32m---> <a href='vscode-notebook-cell:/e%3A/Srihari/Python/22238-MDSC102-Assignment-2.ipynb#W3sZmlsZQ%3D%3D?line=26'>27</a>\u001b[0m \u001b[39mprint\u001b[39m(\u001b[39m\"\u001b[39m\u001b[39mExpectation of x : \u001b[39m\u001b[39m\"\u001b[39m,ex(x,\u001b[39m1\u001b[39;49m,p))\n\u001b[0;32m     <a href='vscode-notebook-cell:/e%3A/Srihari/Python/22238-MDSC102-Assignment-2.ipynb#W3sZmlsZQ%3D%3D?line=27'>28</a>\u001b[0m \u001b[39mprint\u001b[39m(\u001b[39m\"\u001b[39m\u001b[39mExpectation of x^2 : \u001b[39m\u001b[39m\"\u001b[39m,ex(x,\u001b[39m2\u001b[39m,p))\n\u001b[0;32m     <a href='vscode-notebook-cell:/e%3A/Srihari/Python/22238-MDSC102-Assignment-2.ipynb#W3sZmlsZQ%3D%3D?line=28'>29</a>\u001b[0m no \u001b[39m=\u001b[39m \u001b[39mint\u001b[39m(\u001b[39minput\u001b[39m(\u001b[39m\"\u001b[39m\u001b[39mEnter the nth number : \u001b[39m\u001b[39m\"\u001b[39m))\n",
      "\u001b[1;32me:\\Srihari\\Python\\22238-MDSC102-Assignment-2.ipynb Cell 4\u001b[0m in \u001b[0;36mex\u001b[1;34m(x, n, p)\u001b[0m\n\u001b[0;32m     <a href='vscode-notebook-cell:/e%3A/Srihari/Python/22238-MDSC102-Assignment-2.ipynb#W3sZmlsZQ%3D%3D?line=21'>22</a>\u001b[0m \u001b[39mdef\u001b[39;00m \u001b[39mex\u001b[39m(x,n,p):\n\u001b[1;32m---> <a href='vscode-notebook-cell:/e%3A/Srihari/Python/22238-MDSC102-Assignment-2.ipynb#W3sZmlsZQ%3D%3D?line=22'>23</a>\u001b[0m     \u001b[39mreturn\u001b[39;00m nsum(((x)\u001b[39m*\u001b[39;49mf(x,p)),[\u001b[39m1\u001b[39;49m,inf])\n",
      "File \u001b[1;32mc:\\Users\\Msc 1\\AppData\\Local\\Programs\\Python\\Python39\\lib\\site-packages\\mpmath\\calculus\\extrapolation.py:1718\u001b[0m, in \u001b[0;36mnsum\u001b[1;34m(ctx, f, *intervals, **options)\u001b[0m\n\u001b[0;32m   1715\u001b[0m     ctx\u001b[39m.\u001b[39mprec \u001b[39m=\u001b[39m workprec\n\u001b[0;32m   1716\u001b[0m     \u001b[39mreturn\u001b[39;00m v\n\u001b[1;32m-> 1718\u001b[0m \u001b[39mreturn\u001b[39;00m \u001b[39m+\u001b[39mctx\u001b[39m.\u001b[39;49madaptive_extrapolation(update, emfun, options)\n",
      "File \u001b[1;32mc:\\Users\\Msc 1\\AppData\\Local\\Programs\\Python\\Python39\\lib\\site-packages\\mpmath\\calculus\\extrapolation.py:1165\u001b[0m, in \u001b[0;36madaptive_extrapolation\u001b[1;34m(ctx, update, emfun, kwargs)\u001b[0m\n\u001b[0;32m   1163\u001b[0m     \u001b[39mprint\u001b[39m(\u001b[39m\"\u001b[39m\u001b[39m-\u001b[39m\u001b[39m\"\u001b[39m\u001b[39m*\u001b[39m\u001b[39m70\u001b[39m)\n\u001b[0;32m   1164\u001b[0m     \u001b[39mprint\u001b[39m(\u001b[39m\"\u001b[39m\u001b[39mAdding terms #\u001b[39m\u001b[39m%i\u001b[39;00m\u001b[39m-#\u001b[39m\u001b[39m%i\u001b[39;00m\u001b[39m\"\u001b[39m \u001b[39m%\u001b[39m (index, index\u001b[39m+\u001b[39mstep))\n\u001b[1;32m-> 1165\u001b[0m update(partial, xrange(index, index\u001b[39m+\u001b[39;49mstep))\n\u001b[0;32m   1166\u001b[0m index \u001b[39m+\u001b[39m\u001b[39m=\u001b[39m step\n\u001b[0;32m   1168\u001b[0m \u001b[39m# Check direct error\u001b[39;00m\n",
      "File \u001b[1;32mc:\\Users\\Msc 1\\AppData\\Local\\Programs\\Python\\Python39\\lib\\site-packages\\mpmath\\calculus\\extrapolation.py:1706\u001b[0m, in \u001b[0;36mnsum.<locals>.update\u001b[1;34m(partial_sums, indices)\u001b[0m\n\u001b[0;32m   1704\u001b[0m     psum \u001b[39m=\u001b[39m ctx\u001b[39m.\u001b[39mzero\n\u001b[0;32m   1705\u001b[0m \u001b[39mfor\u001b[39;00m k \u001b[39min\u001b[39;00m indices:\n\u001b[1;32m-> 1706\u001b[0m     psum \u001b[39m=\u001b[39m psum \u001b[39m+\u001b[39m g(ctx\u001b[39m.\u001b[39;49mmpf(k))\n\u001b[0;32m   1707\u001b[0m     partial_sums\u001b[39m.\u001b[39mappend(psum)\n",
      "File \u001b[1;32mc:\\Users\\Msc 1\\AppData\\Local\\Programs\\Python\\Python39\\lib\\site-packages\\mpmath\\calculus\\extrapolation.py:1753\u001b[0m, in \u001b[0;36mstandardize.<locals>.g\u001b[1;34m(k)\u001b[0m\n\u001b[0;32m   1751\u001b[0m \u001b[39mdef\u001b[39;00m \u001b[39mg\u001b[39m(k):\n\u001b[0;32m   1752\u001b[0m     args[d] \u001b[39m=\u001b[39m k\n\u001b[1;32m-> 1753\u001b[0m     \u001b[39mreturn\u001b[39;00m f(\u001b[39m*\u001b[39;49margs)\n",
      "File \u001b[1;32mc:\\Users\\Msc 1\\AppData\\Local\\Programs\\Python\\Python39\\lib\\site-packages\\mpmath\\calculus\\extrapolation.py:1808\u001b[0m, in \u001b[0;36mstandardize_infinite.<locals>.g\u001b[1;34m(*args)\u001b[0m\n\u001b[0;32m   1806\u001b[0m args \u001b[39m=\u001b[39m \u001b[39mlist\u001b[39m(args)\n\u001b[0;32m   1807\u001b[0m args[dim] \u001b[39m+\u001b[39m\u001b[39m=\u001b[39m a\n\u001b[1;32m-> 1808\u001b[0m \u001b[39mreturn\u001b[39;00m f(\u001b[39m*\u001b[39;49margs)\n",
      "\u001b[1;31mTypeError\u001b[0m: 'Mul' object is not callable"
     ]
    }
   ],
   "source": [
    "from mpmath import nsum,inf\n",
    "from sympy import *\n",
    "\n",
    "# def f(x,p):\n",
    "#     p*(1-p)**(x-1)\n",
    "\n",
    "# def ex(x):\n",
    "#     p=0.5\n",
    "#     return int(nsum((x)*(f(x,p)),[0,oo]))\n",
    "\n",
    "# x = symbols(\"x\")\n",
    "# print(\"EX = \",ex(1))\n",
    "# print(\"EX^2 = \",ex(2))\n",
    "# print(\"Variance = \",ex(2)-ex(1)**2)\n",
    "# print(\"EX^n = \",ex(3))\n",
    "\n",
    "\n",
    "\n",
    "def f(x,p):\n",
    "    return p*(1-p)**(x-1)\n",
    "\n",
    "def ex(x,n,p):\n",
    "    return nsum(((x)*f(x,p)),[1,inf])\n",
    "\n",
    "x = symbols('x')\n",
    "p=0.5\n",
    "print(\"Expectation of x : \",ex(x,1,p))\n",
    "print(\"Expectation of x^2 : \",ex(x,2,p))\n",
    "no = int(input(\"Enter the nth number : \"))\n",
    "print(\"Expectation of x^n : \",ex(x,no,p))\n"
   ]
  }
 ],
 "metadata": {
  "kernelspec": {
   "display_name": "Python 3.9.13 64-bit",
   "language": "python",
   "name": "python3"
  },
  "language_info": {
   "codemirror_mode": {
    "name": "ipython",
    "version": 3
   },
   "file_extension": ".py",
   "mimetype": "text/x-python",
   "name": "python",
   "nbconvert_exporter": "python",
   "pygments_lexer": "ipython3",
   "version": "3.9.13"
  },
  "orig_nbformat": 4,
  "vscode": {
   "interpreter": {
    "hash": "a351977ee7b04894121f5cde6ee8599f2048b7534d4382db8d533ca73fe19004"
   }
  }
 },
 "nbformat": 4,
 "nbformat_minor": 2
}
