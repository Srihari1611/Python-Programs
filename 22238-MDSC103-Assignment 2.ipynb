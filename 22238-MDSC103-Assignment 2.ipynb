{
 "cells": [
  {
   "cell_type": "code",
   "execution_count": 31,
   "metadata": {},
   "outputs": [
    {
     "data": {
      "image/png": "[encoded data removed]",
      "text/plain": [
       "<Figure size 2160x720 with 1 Axes>"
      ]
     },
     "metadata": {
      "needs_background": "light"
     },
     "output_type": "display_data"
    },
    {
     "name": "stdout",
     "output_type": "stream",
     "text": [
      "The maximum points of the equation is :  (3.0, 1.5)\n"
     ]
    }
   ],
   "source": [
    "import numpy as np\n",
    "import matplotlib.pyplot as plt\n",
    "\n",
    "\n",
    "fig,ax = plt.subplots(1,1, figsize = (30,10))\n",
    "#ax = plt.axes()\n",
    "\n",
    "def f(x1,x2):\n",
    "    return ((5*x1)+(4*x2))\n",
    "\n",
    "def g1(x):\n",
    "    return((24-(6*x))/4)\n",
    "\n",
    "def g2(x):\n",
    "    return((6-x)/2)\n",
    "\n",
    "def g3(x):\n",
    "    return(x+1)\n",
    "\n",
    "def g4(x):\n",
    "    return 2\n",
    "\n",
    "\n",
    "def graphical():\n",
    "    x = np.linspace(0,7,100)\n",
    "    y1= g1(x)\n",
    "\n",
    "    y2 = g2(x)\n",
    "\n",
    "    y3 = g3(x)\n",
    "\n",
    "    y4 = g4(x)\n",
    "\n",
    "    ax.plot(x,y1)\n",
    "\n",
    "    ax.plot(x,y2)\n",
    "\n",
    "    ax.plot(x,y3)\n",
    "\n",
    "    y4=2\n",
    "\n",
    "    \n",
    "\n",
    "    ax.axhline(y4)\n",
    "\n",
    "    ax.axvline(x=0)\n",
    "    ax.axhline(y=0)\n",
    "\n",
    "    plt.xlim([0, 7])\n",
    "    plt.ylim([0, 7])\n",
    "\n",
    "    x,y = np.meshgrid(x,x)\n",
    "\n",
    "    plt.imshow(\n",
    "        (\n",
    "            (y<=2) & (y<=x+1) & (x+2*y<=6) & (6*x+4*y<=24) & (x>=0) & (y>=0)\n",
    "        )\n",
    "        .astype(int) , \n",
    "                extent=(x.min(),x.max(),y.min(),y.max()),origin=\"lower\", cmap=\"Greys\", alpha = 0.3\n",
    "    )\n",
    "\n",
    "    plt.show()\n",
    "\n",
    "graphical()\n",
    "\n",
    "def line(p1, p2):\n",
    "    A = (p1[1] - p2[1])\n",
    "    B = (p2[0] - p1[0])\n",
    "    C = (p1[0]*p2[1] - p2[0]*p1[1])\n",
    "    return A, B, -C\n",
    "\n",
    "def inter(L1, L2):\n",
    "    D  = L1[0] * L2[1] - L1[1] * L2[0]\n",
    "    Dx = L1[2] * L2[1] - L1[1] * L2[2]\n",
    "    Dy = L1[0] * L2[2] - L1[2] * L2[0]\n",
    "    if D != 0:\n",
    "        x = Dx / D\n",
    "        y = Dy / D\n",
    "        return x,y\n",
    "    else:\n",
    "        return False\n",
    "\n",
    "l1 = line([4,0],[0,6])\n",
    "l2 = line([6,0],[0,3])\n",
    "\n",
    "p1 = [0,0]\n",
    "p2 = [4,0]\n",
    "p3 = inter(l1,l2)\n",
    "p4 = [0,1]\n",
    "p5 = inter([-1,1,1] , [0,1,2])\n",
    "p6 = inter([1,2,6] , [0,1,2])\n",
    "\n",
    "main = [p1,p2,p3,p4,p5,p6]\n",
    "\n",
    "max = 0\n",
    "\n",
    "for i in range(len(main)):\n",
    "    opt = ((5*main[i][0])+4*main[i][1])\n",
    "\n",
    "    if opt>max:\n",
    "        max = opt\n",
    "        final = main[i]\n",
    "\n",
    "print(\"The maximum points of the equation is : \", final)\n"
   ]
  }
 ],
 "metadata": {
  "kernelspec": {
   "display_name": "Python 3.9.13 64-bit",
   "language": "python",
   "name": "python3"
  },
  "language_info": {
   "codemirror_mode": {
    "name": "ipython",
    "version": 3
   },
   "file_extension": ".py",
   "mimetype": "text/x-python",
   "name": "python",
   "nbconvert_exporter": "python",
   "pygments_lexer": "ipython3",
   "version": "3.9.13"
  },
  "orig_nbformat": 4,
  "vscode": {
   "interpreter": {
    "hash": "a351977ee7b04894121f5cde6ee8599f2048b7534d4382db8d533ca73fe19004"
   }
  }
 },
 "nbformat": 4,
 "nbformat_minor": 2
}
