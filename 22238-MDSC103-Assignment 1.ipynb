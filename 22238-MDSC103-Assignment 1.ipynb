{
 "cells": [
  {
   "cell_type": "code",
   "execution_count": 26,
   "metadata": {},
   "outputs": [
    {
     "name": "stdout",
     "output_type": "stream",
     "text": [
      "The maximum value of the function is at x =  1.9937170907645652\n"
     ]
    }
   ],
   "source": [
    "#Golden Section\n",
    "def f(x):\n",
    "    if x>=0 and x<=2:\n",
    "        return 4*x\n",
    "\n",
    "    elif x>=2 and x<=4:\n",
    "        return 4-x\n",
    "\n",
    "    else:\n",
    "        return 0\n",
    "\n",
    "def fun(xf,xs,it):\n",
    "\n",
    "    if type(xf)!=int or type(xs)!=int:\n",
    "        print(\"Enter integers as intervals\")\n",
    "        return\n",
    "\n",
    "    i0 = [xf,xs]\n",
    "    xl = xf\n",
    "    xr = xs\n",
    "    x1=0\n",
    "    x2=0\n",
    "\n",
    "    for i in range(it):\n",
    "        x1 = xr-0.618*(xr-xl)\n",
    "        x2 = xl+0.618*(xr-xl)\n",
    "        f1 = f(x1)\n",
    "        f2 = f(x2)\n",
    "\n",
    "        # print(f1,f2)\n",
    "        print(x1,x2)\n",
    "\n",
    "        if abs(f(x1)-f(x2))<0.01:\n",
    "            break\n",
    "        \n",
    "        else:\n",
    "            if f1<f2:\n",
    "                xl = x1\n",
    "                xr = xr\n",
    "\n",
    "            elif(f1>f2):\n",
    "                xl = xl\n",
    "                xr = x2\n",
    "\n",
    "            elif f1==f2:\n",
    "                xl = x1\n",
    "                xr = x2\n",
    "\n",
    "\n",
    "    return xl\n",
    "\n",
    "\n",
    "ite = int(input(\"Enter the maximum number of iteration : \"))\n",
    "\n",
    "callit = fun(0,4,ite)\n",
    "\n",
    "print(\"The maximum value of the function is at x = \", callit)\n"
   ]
  },
  {
   "cell_type": "code",
   "execution_count": 83,
   "metadata": {},
   "outputs": [
    {
     "name": "stdout",
     "output_type": "stream",
     "text": [
      "The minima of f(x) :  9.4\n"
     ]
    }
   ],
   "source": [
    "#gradient descent\n",
    "def f(x):\n",
    "    return 3*x**2\n",
    "\n",
    "def f1(x):\n",
    "    return(6*x)\n",
    "\n",
    "def gradrient(init,ite):\n",
    "    x = init\n",
    "    c=1\n",
    "    for i in range(ite):\n",
    "        x1 = x-0.01*f1(init)\n",
    "\n",
    "        y = x\n",
    "        x=x1\n",
    "        if (y-x1)<=0.001 or x1<0.01:\n",
    "            c = 0\n",
    "        if c==0:\n",
    "            continue\n",
    "\n",
    "        else:\n",
    "            break\n",
    "\n",
    "    return x       \n",
    "\n",
    "\n",
    "\n",
    "ite = int(input(\"Enter the maximum number of iteration : \"))\n",
    "\n",
    "ans = gradrient(10, ite)\n",
    "\n",
    "print(\"The minima of f(x) : \",ans)\n"
   ]
  },
  {
   "cell_type": "code",
   "execution_count": 82,
   "metadata": {},
   "outputs": [
    {
     "name": "stdout",
     "output_type": "stream",
     "text": [
      "The extreme points are :  [0.43679023] [0.38157141]\n",
      "The value of f(x) with the extreme points are :  [-0.16666667]\n",
      "The f(x) is maxima as it is less than 0\n"
     ]
    }
   ],
   "source": [
    "#Newton\n",
    "import numpy as np\n",
    "from scipy import linalg\n",
    "\n",
    "def f(x1,x2):\n",
    "    return 2*x1**3+3*x2**3-3*x1*x2\n",
    "\n",
    "def g1(x1,x2):\n",
    "    return np.array([[(6*x1**2)-3*x2],[9*x2**2-3*x1]])\n",
    "\n",
    "def g2(x1,x2):\n",
    "    return np.array([[12*x1,-3],[-3,18*x2]])\n",
    "\n",
    "def newton(xi,it):\n",
    "    indi = 0\n",
    "    xi1 = np.array([[0],[0]])\n",
    "    x1 = xi.item(0)\n",
    "    x2 = xi.item(1)\n",
    "\n",
    "    for i in range(it):\n",
    "        df2 = g2(x1,x2)\n",
    "        inver = linalg.inv(df2)\n",
    "        #print(inver)\n",
    "        xi1 = (xi-(np.dot(inver,g1(x1,x2))))\n",
    "        #print(xi1)\n",
    "        x1 = xi1.item(0)\n",
    "        x2 = xi1.item(1)\n",
    "\n",
    "        m = np.linalg.norm(xi)\n",
    "        n = np.linalg.norm(xi1)\n",
    "\n",
    "        if abs(m-n) < 0.0001:\n",
    "            break\n",
    "\n",
    "        xi = xi1\n",
    "\n",
    "    return xi1\n",
    "\n",
    "\n",
    "ini = np.array([[1],[2]])\n",
    "#print(ini)\n",
    "ite = int(input(\"Enter the maximum number of iterations : \"))\n",
    "nr = newton(ini,ite)\n",
    "e1 = nr[0]\n",
    "e2 = nr[1]\n",
    "\n",
    "x = f(e1,e2)\n",
    "y = g1(e1,e2)\n",
    "print(\"The extreme points are : \",nr[0],nr[1])\n",
    "\n",
    "print(\"The value of f(x) with the extreme points are : \",x)\n",
    "\n",
    "\n",
    "if x<0:\n",
    "    print(\"The f(x) is maxima as it is less than 0\")\n",
    "\n",
    "if x>0:\n",
    "    print(\"The f(x) is minima as it is greater than 0\")\n",
    "# print(\"The value of g(x) with the extreme points are : \",y)"
   ]
  }
 ],
 "metadata": {
  "kernelspec": {
   "display_name": "Python 3.9.13 64-bit",
   "language": "python",
   "name": "python3"
  },
  "language_info": {
   "codemirror_mode": {
    "name": "ipython",
    "version": 3
   },
   "file_extension": ".py",
   "mimetype": "text/x-python",
   "name": "python",
   "nbconvert_exporter": "python",
   "pygments_lexer": "ipython3",
   "version": "3.9.13"
  },
  "orig_nbformat": 4,
  "vscode": {
   "interpreter": {
    "hash": "a351977ee7b04894121f5cde6ee8599f2048b7534d4382db8d533ca73fe19004"
   }
  }
 },
 "nbformat": 4,
 "nbformat_minor": 2
}
