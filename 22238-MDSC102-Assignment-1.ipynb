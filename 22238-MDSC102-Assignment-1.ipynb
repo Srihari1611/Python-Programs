{
 "cells": [
  {
   "cell_type": "markdown",
   "metadata": {},
   "source": [
    "Write a program to compute the real roots of the equation $ax^2+bx+c.$"
   ]
  },
  {
   "cell_type": "code",
   "execution_count": 5,
   "metadata": {},
   "outputs": [
    {
     "name": "stdout",
     "output_type": "stream",
     "text": [
      "3.0 -2.0\n"
     ]
    }
   ],
   "source": [
    "#question 1\n",
    "#quaratic equation to compute real roots of the equation\n",
    "\"\"\"_summary_\n",
    "\n",
    "    Author : Srihari.M\n",
    "    Regd. No : 22238\n",
    "\n",
    "    Question : To compute the real roots of the given equation\n",
    "\n",
    "    The program gets equation from the user as input and sends it to a function\n",
    "\n",
    "    Function : def findr(a,b,c)\n",
    "    Purpose : This function will find the real roots using quadratic equation (-b+/-sqroot(b^2-4ac))/2a\n",
    "    Returns : it returns the two roots of the equation\n",
    "\n",
    "\"\"\"\n",
    "\n",
    "from math import sqrt\n",
    "\n",
    "def findr(a,b,c):\n",
    "    d1 = (-b+sqrt((b**2)-4*a*c))/2*a\n",
    "    d2 = (-b-sqrt((b**2)-4*a*c))/2*a\n",
    "    return d1,d2\n",
    "\n",
    "x = int(input(\"Enter the square vriable : \"))\n",
    "y = int(input(\"Enter the x variable : \"))\n",
    "z = int(input(\"Enter the constant variable : \"))\n",
    "\n",
    "roots = findr(x,y,z)\n",
    "r1 = roots[0]\n",
    "r2 = roots[1]\n",
    "\n",
    "print(r1, r2)\n",
    "\n",
    "# if (r1>=0 and r2>=0):\n",
    "#     print(\"true\")\n",
    "#     print(roots[1])\n",
    "\n",
    "#expression should be x^2+x+c\n"
   ]
  },
  {
   "cell_type": "markdown",
   "metadata": {},
   "source": [
    "Write a program to compute the probability $P(X=x),$ where $X\\sim Bin(n=10,p=0.2)$"
   ]
  },
  {
   "cell_type": "code",
   "execution_count": 33,
   "metadata": {},
   "outputs": [
    {
     "name": "stdout",
     "output_type": "stream",
     "text": [
      "0.0009765625\n"
     ]
    }
   ],
   "source": [
    "#question 2\n",
    "\n",
    "\"\"\"_summary_\n",
    "\n",
    "    Author : Srihari.M\n",
    "    Regd. No. : 22238\n",
    "    \n",
    "    Question : To compute the probability of a binomial random variable\n",
    "    \"\"\"\n",
    "import math as ma\n",
    "\n",
    "def bin(x,n,p):\n",
    "    if p>0 and p<=1:\n",
    "        if x<n:\n",
    "            if n>0:\n",
    "                ans = ((ma.factorial(n)/ma.factorial(n-x)*ma.factorial(x))*((p**x)*((1-p)**(n-x))))\n",
    "                return ans\n",
    "\n",
    "            else:\n",
    "                print(\"Sorry! something went wrong!\")# no. of trials can't be negative\n",
    "\n",
    "        else:\n",
    "            return 0\n",
    "\n",
    "    else:\n",
    "        print(\"The Probability should be between 0 and 1!\")\n",
    "\n",
    "x = int(input(\"Enter the x value : \"))\n",
    "n= int(input(\"Enter the no. of Bernoulli trials: \"))\n",
    "p= float(input(\"Enter the probability if success : \"))\n",
    "\n",
    "if p>0 and p<=1:\n",
    "    binomial = bin(x,n,p)\n",
    "\n",
    "else:\n",
    "    print(\"The Probability of a function should be between 0 and 1!\")\n",
    "\n",
    "print(binomial)"
   ]
  },
  {
   "cell_type": "markdown",
   "metadata": {},
   "source": [
    "Lets say you are running a 5 km race. Write a program that,\n",
    "\n",
    "Upon completing each 1 km asks you \"are you tired?\"\n",
    "\n",
    "If you reply \"yes\" then it should break and print \"you didn't finish the race\"\n",
    "\n",
    "If you reply \"no\" then it should continue and ask \"are you tired\" on every km\n",
    "\n",
    "If you finish all 5 km then it should print congratulations message"
   ]
  },
  {
   "cell_type": "code",
   "execution_count": 29,
   "metadata": {},
   "outputs": [
    {
     "name": "stdout",
     "output_type": "stream",
     "text": [
      "1\n",
      "You didn't finish the race!!!\n"
     ]
    }
   ],
   "source": [
    "#Question 3\n",
    "\n",
    "\"\"\"_summary_\n",
    "    \n",
    "    Author : Srihari.M\n",
    "    Regd. No : 22238\n",
    "\n",
    "    Question : To ask the athelet whether he is tired after each round\n",
    "\n",
    "    The user will give how many round he is going to run and after every roung the porgram will ask whether he is tired or not,\n",
    "    if he fells tired in between the marathon, the program will display you didn't finish\n",
    "    or else it will keep on asking are you tired and if he/she completes the marathon it will display the greeting\n",
    "\n",
    "    Function : def running(n)\n",
    "    Purpose : This function will run in a loop till the no of KM he is running\n",
    "              There is count so that it will count what round is going on and asks whether he/she is tired.\n",
    "              If the marathon is completed it will display the greeting to the athelet\n",
    "    \"\"\"\n",
    "\n",
    "def running(n):\n",
    "    count = 0\n",
    "    for i in range(n):\n",
    "        count+=1\n",
    "        if count <n:\n",
    "            #count+=1\n",
    "            print(count)\n",
    "            q = input(\"Are you tired? : \")\n",
    "\n",
    "            if q ==\"yes\"or q ==\"Yes\":\n",
    "                print(\"You didn't finish the race!!!\")\n",
    "                break\n",
    "\n",
    "            elif q ==\"no\"or q ==\"No\":\n",
    "                continue\n",
    "\n",
    "        else:\n",
    "            print(\"Congratulations!You have finished the race\")\n",
    "            break\n",
    "        \n",
    "\n",
    "\n",
    "km = int(input(\"Enter how many KM you are going to run\"))\n",
    "\n",
    "running(km)\n"
   ]
  },
  {
   "cell_type": "markdown",
   "metadata": {},
   "source": [
    "Write a function `tip_calc(bill, party)`, where bill is the total cost of a meal and party is the number of people in the group. The tip should be calculated as 15% for a party strictly less than six people, 18% for a party strictly less than eight, 20% for a party less than 11, and 25% for a party 11 or more. A couple of test cases are given below."
   ]
  },
  {
   "cell_type": "code",
   "execution_count": 35,
   "metadata": {},
   "outputs": [
    {
     "name": "stdout",
     "output_type": "stream",
     "text": [
      "You have to pay :  141.45\n"
     ]
    }
   ],
   "source": [
    "#question 4\n",
    "\n",
    "\"\"\"_summary_\n",
    "\n",
    "    Author : Srihari.M\n",
    "    Regd. No. : 22238\n",
    "\n",
    "    Question : To calculate the tip based on the bill and no. of people in the group\n",
    "\n",
    "    The user will give the amount and no. of people and it will display the total bill amount which includes the bill amount and the tip\n",
    "\n",
    "    Function : def tip_calc(bill, party)\n",
    "    Purpose : This function get the amount and no. of people as parameters and according to the no. of people the percentage of the tip is sent to the another function will calculate the bill amount\n",
    "\n",
    "    Funciton : def calc(per, amount)\n",
    "    Purpose : This will calculate the tip and store it in the variable\"tip\"\n",
    "              The total amount is calculated by adding the amount +tip\n",
    "    Returns : It returns the total bill amount\n",
    "\n",
    "    \"\"\"\n",
    "\n",
    "def calc(per:float,amount:float):\n",
    "    tip = per*amount\n",
    "    total = tip+amount\n",
    "    return total\n",
    "\n",
    "def tip_calc(bill, party):\n",
    "    # totc = bill\n",
    "    # nop = party\n",
    "\n",
    "    if party<6:\n",
    "        totc = calc(0.15,bill)\n",
    "\n",
    "    elif party<8:\n",
    "        totc = calc(0.18,bill)\n",
    "\n",
    "    elif party<11:\n",
    "        totc = calc(0.20,bill)\n",
    "\n",
    "    elif party>=11:\n",
    "        totc = calc(0.25,bill)\n",
    "    \n",
    "    return totc\n",
    "\n",
    "amt = float(input(\"Enter the Bill amount : \"))\n",
    "peo = int(input(\"Enter the No. of people : \"))\n",
    "\n",
    "tax = tip_calc(amt, peo)\n",
    "# correct = round(tax)\n",
    "\n",
    "print(\"You have to pay : \",tax)\n"
   ]
  },
  {
   "cell_type": "markdown",
   "metadata": {},
   "source": [
    "Write a function `mult_operation(a,b,operation)`. The input argument, operation, is a string that is either 'plus', 'minus', 'mult', 'div', or 'pow', and the function should compute: a+b, a−b, a∗b, a/b, and ab for the respective values for operation. A couple of test cases are given below."
   ]
  },
  {
   "cell_type": "code",
   "execution_count": 36,
   "metadata": {},
   "outputs": [
    {
     "name": "stdout",
     "output_type": "stream",
     "text": [
      "1.Addition\n",
      "2.Subtraction\n",
      "3.Multiplication\n",
      "4.Division\n",
      "5.Power\n",
      "Answer :  3\n"
     ]
    }
   ],
   "source": [
    "#question 5\n",
    "\n",
    "\"\"\"_summary_\n",
    "\n",
    "    Author : Srihari.M\n",
    "    Regd. No. : 22238\n",
    "\n",
    "    Question : To build a calculator which can compute sum, difference, product, quoeint and power\n",
    "\n",
    "    the user will select which function he wants to perform and the work will be done by the function\n",
    "\n",
    "    Function : mult_operation(a,b,operation)\n",
    "    Purpose : This function will compute the answer for the variables like + for addition, etc\n",
    "    \n",
    "    \"\"\"\n",
    "def mult_operation(a,b,operation):\n",
    "    if operation == \"plus\":\n",
    "        return a+b\n",
    "\n",
    "    if operation == \"minus\":\n",
    "        return a-b\n",
    "\n",
    "    if operation == \"multi\":\n",
    "        return a*b\n",
    "\n",
    "    if operation == \"div\":\n",
    "        return a/b\n",
    "\n",
    "    if operation == \"pow\":\n",
    "        return a**b\n",
    "\n",
    "\n",
    "a = int(input(\"Enter the value of 'A' : \"))\n",
    "\n",
    "b = int(input(\"Enter the value of 'B' : \"))\n",
    "\n",
    "print(\"1.Addition\")\n",
    "print(\"2.Subtraction\")\n",
    "print(\"3.Multiplication\")\n",
    "print(\"4.Division\")\n",
    "print(\"5.Power\")\n",
    "\n",
    "opt = int(input(\"Enter your choice(just the number) : \"))\n",
    "\n",
    "if opt==1:\n",
    "    answer = mult_operation(a,b,\"plus\")\n",
    "\n",
    "elif opt==2:\n",
    "    answer = mult_operation(a,b,\"minus\")\n",
    "\n",
    "elif opt==3:\n",
    "    answer = mult_operation(a,b,\"multi\")\n",
    "\n",
    "elif opt==4:\n",
    "    answer = mult_operation(a,b,\"div\")\n",
    "\n",
    "elif opt==5:\n",
    "    answer = mult_operation(a,b,\"pow\")\n",
    "\n",
    "print(\"Answer : \",answer)\n",
    "\n"
   ]
  },
  {
   "cell_type": "markdown",
   "metadata": {},
   "source": [
    "Consider a triangle with vertices at (0,0), (1,0), and (0,1). Write a function `inside_triangle(x,y)` where the output is the string ‘outside’ if the point (x,y) is outside of the triangle, ‘border’ if the point is exactly on the border of the triangle, and ‘inside’ if the point is on the inside of the triangle."
   ]
  },
  {
   "cell_type": "code",
   "execution_count": 40,
   "metadata": {},
   "outputs": [
    {
     "name": "stdout",
     "output_type": "stream",
     "text": [
      "The coordinated are on the triangle!\n"
     ]
    }
   ],
   "source": [
    "#question 6\n",
    "\n",
    "\"\"\"_summary_\n",
    "\n",
    "    Question : To check whether the given point is inside or outside or on the lines of the triangle\n",
    "\n",
    "    The vertices for the given triangle is (0,0), (1,0), (0,1) which is a right angle trianglewhich lies on x-axis and y-axis\n",
    "    so if we check the sum of the point we will be able to determine where the point lies\n",
    "\n",
    "    Function : def inside_triangle(x,y)\n",
    "    Purpose : This function will first compute the sum of the points\n",
    "              It checks whether the x and y are greater than 0 so that we can tell it's outside the triangle as the points lie on other quadrant\n",
    "              If the sum is less than 1, the point lies inside the triangle\n",
    "              If the sum is greater than 1, the point lies outside the triangle\n",
    "              If the sum is equal to 1, the point lies on the triangle\n",
    "\n",
    "              According to the condition the outputs will be printed\n",
    "\n",
    "    \"\"\"\n",
    "def inside_triangle(x:float,y:float):\n",
    "    sol = x+y\n",
    "\n",
    "    if (x>0 and y>0):\n",
    "        if sol>0:\n",
    "            if sol>1:\n",
    "                print(\"The coordinated are outside the triangle!\")\n",
    "\n",
    "            elif sol<1:\n",
    "                print(\"The coordinated are inside the triangle!\")\n",
    "\n",
    "            elif sol==1:\n",
    "                print(\"The coordinated are on the triangle!\")\n",
    "\n",
    "    else:\n",
    "        print(\"The point is outside the triangle!\")\n",
    "\n",
    "xcor = float(input(\"Enter the x coordinates : \"))\n",
    "ycor = float(input(\"Enter the y coordinates : \"))\n",
    "\n",
    "inside_triangle(xcor,ycor)"
   ]
  },
  {
   "cell_type": "markdown",
   "metadata": {},
   "source": [
    "Write a function `letter_grader(percent)`, where grade is the string ‘O’ if percent is greater than 80, ‘A’ if percent is greater than 70, ‘B‘ if percent is greater than 60, ‘C’ if percent is greater than 40, and ‘F’ if percent is less than 40. Grades exactly on the division should be included in the higher grade category."
   ]
  },
  {
   "cell_type": "code",
   "execution_count": 43,
   "metadata": {},
   "outputs": [
    {
     "name": "stdout",
     "output_type": "stream",
     "text": [
      "81\n",
      "Grade : O\n"
     ]
    }
   ],
   "source": [
    "#question 7\n",
    "\n",
    "\"\"\"_summary_\n",
    "\n",
    "    Author : Srihari.M\n",
    "    Regd. No. : 22238\n",
    "\n",
    "    Question : To print the grade acording to the mark obtained by the student\n",
    "\n",
    "    The program will display the statement according to the mark that the student gives as the input\n",
    "\n",
    "    Function : def letter_grader(m)\n",
    "    Purpose : This function uses if statement to compare the mark and gives the output based on the mark and comparision\n",
    "    \n",
    "    \"\"\"\n",
    "\n",
    "def letter_grader(m):\n",
    "    if m>=80:\n",
    "        print(\"Grade : O\")\n",
    "\n",
    "    elif m>=70:\n",
    "        print(\"Grade : A\")\n",
    "\n",
    "    elif m>=60:\n",
    "        print(\"Grade : B\")\n",
    "\n",
    "    elif m>=40:\n",
    "        print(\"Grade : C\")\n",
    "\n",
    "    else:\n",
    "        print(\"Grade : F\")\n",
    "\n",
    "mark = round(float(input(\"Enter your mark : \")))\n",
    "print(mark)\n",
    "\n",
    "letter_grader(mark)"
   ]
  },
  {
   "cell_type": "markdown",
   "metadata": {},
   "source": [
    "Consider a nuclear reactor whose temperature is monitored by three sensors. An alarm should go off if any two of the sensor readings disagree. Write a function `nuke_alarm(s1,s2,s3)` where s1, s2, and s3 are the temperature readings for sensor 1, sensor 2, and sensor 3, respectively. The output should be the string ‘alarm!’ if any two of the temperature readings disagree by strictly more than 10 degrees and ‘normal’ otherwise."
   ]
  },
  {
   "cell_type": "code",
   "execution_count": 7,
   "metadata": {},
   "outputs": [
    {
     "name": "stdout",
     "output_type": "stream",
     "text": [
      "alarm!\n"
     ]
    }
   ],
   "source": [
    "#question 8\n",
    "\n",
    "\"\"\"_summary_\n",
    "\n",
    "    Author : Srihari.M\n",
    "    Regd. No. : 22238\n",
    "\n",
    "    Question : To give alarm if the sensors detect the temperature is high\n",
    "\n",
    "    The program computes the difference of temperature in the sensors and if it's greater than 10 it will give an alarm or else it will print \"normal\"\n",
    "\n",
    "    Function : def nuke_alarm(s1,s2,s3)\n",
    "    Purpose : It will compute the differnce between the sensor and then check whether the temperature between them is greate the 10 and prints the caution message accordingly\n",
    "    \n",
    "    \"\"\"\n",
    "\n",
    "def nuke_alarm(s1,s2,s3):\n",
    "    if s1-s2 < 0:\n",
    "        s12 = -1*(s1-s2)\n",
    "\n",
    "    else:\n",
    "        s12 = s1-s2\n",
    "\n",
    "    if s2-s3 < 0:\n",
    "        s23 = -1*(s2-s3)\n",
    "\n",
    "    else:\n",
    "        s23 = s2-s3\n",
    "\n",
    "    if s3-s1 < 0:\n",
    "        s31 = -1*(s2-s3)\n",
    "\n",
    "    else:\n",
    "        s31 = s3-s1\n",
    "\n",
    "    if ((s12 > 10 and s23 >10) or (s23 > 10 and s31 > 10) or (s31 > 10 and s12 > 10)):\n",
    "        print(\"alarm!\")\n",
    "\n",
    "    else:\n",
    "        print(\"Normal\")\n",
    "\n",
    "\n",
    "\n",
    "sen1 = int(input(\"Enter the temperature in sensor 1 : \"))\n",
    "sen2 = int(input(\"Enter the temperature in sensor 2 : \"))\n",
    "sen3 = int(input(\"Enter the temperature in sensor 3 : \"))\n",
    "\n",
    "nuke_alarm(sen1,sen2,sen3)\n",
    "\n"
   ]
  },
  {
   "cell_type": "markdown",
   "metadata": {},
   "source": [
    "Write a function `n_odds(x)`, where $x$ is a one-dimensional array of floats and the output is the number of odd numbers in $x.$"
   ]
  },
  {
   "cell_type": "code",
   "execution_count": 31,
   "metadata": {},
   "outputs": [
    {
     "name": "stdout",
     "output_type": "stream",
     "text": [
      "Enter the numbers one after the other\n",
      "1.0\n",
      "3.2\n"
     ]
    }
   ],
   "source": [
    "#question 9\n",
    "\n",
    "\"\"\"_summary_\n",
    "\n",
    "    Author : Srihari.M\n",
    "    Regd. No. : 22238\n",
    "\n",
    "    Question : To display the odd numbers from the list\n",
    "\n",
    "    The program gets the number in the list, then checks for the condition and then displays the output\n",
    "\n",
    "    Function : def n_odds(x)\n",
    "    Purpose : This goes through the list one by one and checks whether the number gives reminder as 0 when the number is divided\n",
    "              If the number is not equal to 0 then it's an odd number and it prints that number\n",
    "    \"\"\"\n",
    "import math\n",
    "\n",
    "def n_odds(x):\n",
    "    for i in range(len(x)):\n",
    "        res = math.modf(x[i])\n",
    "        if (res[1]) %2!=0:\n",
    "            print(x[i])\n",
    "\n",
    "lis = []\n",
    "\n",
    "nu = int(input(\"Enter how many numbers you want to enter : \"))\n",
    "\n",
    "print(\"Enter the numbers one after the other\")\n",
    "\n",
    "for i in range(nu):\n",
    "    no = float(input())\n",
    "\n",
    "    lis.append(no)\n",
    "\n",
    "n_odds(lis)"
   ]
  },
  {
   "cell_type": "markdown",
   "metadata": {},
   "source": [
    "Write a function `vol_cylinder(r,h)`, where $r$ and $h$ are the radius and height of a cylinder, respectively, and the output is a list $[s, v]$ where $s$ and $v$ are the surface area and volume of the same cylinder, respectively. Recall that the surface area of a cylinder is $2πr^2+2πrh,$ and the volume is $πr^2h.$    Assume that $r$ and $h$ are 1 by 1 float."
   ]
  },
  {
   "cell_type": "code",
   "execution_count": 4,
   "metadata": {},
   "outputs": [
    {
     "name": "stdout",
     "output_type": "stream",
     "text": [
      "The surface area of the cylinder is :  75.39822368615503\n",
      "The volume of the cylinder is :  50.26548245743669\n"
     ]
    }
   ],
   "source": [
    "#question 10\n",
    "\n",
    "\"\"\"_summary_\n",
    "\n",
    "    Author : Srihari.M\n",
    "    Regd. No. : 22238\n",
    "\n",
    "    Question : To compute the surface area and volume of the cylinder\n",
    "\n",
    "    The program get the radius and height of the cylinder and compute it\n",
    "\n",
    "    Function : def vol_cylinder(r,h)\n",
    "    Purpose : The function computes the surface area volume of the cylinder with the given radius and height\n",
    "              Formula for surface area is  : (2*pi*r**2)+(2*pi*r*h)\n",
    "              Formula for volume is : pi*r**2*h\n",
    "              It returns both the values and displays it to the user\n",
    "    \"\"\"\n",
    "\n",
    "from math import pi\n",
    "\n",
    "\n",
    "def vol_cylinder(r,h):\n",
    "    surface = (2*pi*r**2)+(2*pi*r*h)\n",
    "    volume = pi*r**2*h\n",
    "\n",
    "    return surface,volume\n",
    "\n",
    "rad = float(input(\"Enter the radius of the cylinder : \"))\n",
    "hei = float(input(\"Enter the height of the cylinder : \"))\n",
    "\n",
    "sv = []\n",
    "sv = vol_cylinder(rad,hei)\n",
    "print(\"The surface area of the cylinder is : \",sv[0])\n",
    "print(\"The volume of the cylinder is : \",sv[1])"
   ]
  }
 ],
 "metadata": {
  "kernelspec": {
   "display_name": "Python 3.9.13 64-bit",
   "language": "python",
   "name": "python3"
  },
  "language_info": {
   "codemirror_mode": {
    "name": "ipython",
    "version": 3
   },
   "file_extension": ".py",
   "mimetype": "text/x-python",
   "name": "python",
   "nbconvert_exporter": "python",
   "pygments_lexer": "ipython3",
   "version": "3.9.13"
  },
  "orig_nbformat": 4,
  "vscode": {
   "interpreter": {
    "hash": "a351977ee7b04894121f5cde6ee8599f2048b7534d4382db8d533ca73fe19004"
   }
  }
 },
 "nbformat": 4,
 "nbformat_minor": 2
}
